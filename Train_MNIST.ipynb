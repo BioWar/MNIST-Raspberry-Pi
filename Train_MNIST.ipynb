{
 "cells": [
  {
   "cell_type": "code",
   "execution_count": null,
   "metadata": {
    "colab": {
     "base_uri": "https://localhost:8080/",
     "height": 124
    },
    "colab_type": "code",
    "id": "5LybLe2-W0wZ",
    "outputId": "b40014a4-1585-4355-dae7-c4a185ef7529"
   },
   "outputs": [
    {
     "name": "stdout",
     "output_type": "stream",
     "text": [
      "Go to this URL in a browser: https://accounts.google.com/o/oauth2/auth?client_id=947318989803-6bn6qk8qdgf4n4g3pfee6491hc0brc4i.apps.googleusercontent.com&redirect_uri=urn%3aietf%3awg%3aoauth%3a2.0%3aoob&response_type=code&scope=email%20https%3a%2f%2fwww.googleapis.com%2fauth%2fdocs.test%20https%3a%2f%2fwww.googleapis.com%2fauth%2fdrive%20https%3a%2f%2fwww.googleapis.com%2fauth%2fdrive.photos.readonly%20https%3a%2f%2fwww.googleapis.com%2fauth%2fpeopleapi.readonly\n",
      "\n",
      "Enter your authorization code:\n",
      "··········\n",
      "Mounted at /content/drive\n"
     ]
    }
   ],
   "source": [
    "from google.colab import drive\n",
    "drive.mount('/content/drive')"
   ]
  },
  {
   "cell_type": "code",
   "execution_count": null,
   "metadata": {
    "colab": {},
    "colab_type": "code",
    "id": "PsSyoH4iZzB-"
   },
   "outputs": [],
   "source": [
    "# Python ≥3.5 is required\n",
    "import sys\n",
    "assert sys.version_info >= (3, 5)\n",
    "\n",
    "try:\n",
    "    # %tensorflow_version only exists in Colab.\n",
    "    %tensorflow_version 2.x\n",
    "    IS_COLAB = True\n",
    "except Exception:\n",
    "    IS_COLAB = False\n",
    "\n",
    "# TensorFlow ≥2.0 is required\n",
    "import tensorflow as tf\n",
    "from tensorflow import keras\n",
    "assert tf.__version__ >= \"2.0\"\n",
    "\n",
    "if not tf.config.list_physical_devices('GPU'):\n",
    "    print(\"No GPU was detected. CNNs can be very slow without a GPU.\")\n",
    "    if IS_COLAB:\n",
    "        print(\"Go to Runtime > Change runtime and select a GPU hardware accelerator.\")\n",
    "\n",
    "# Common imports\n",
    "import numpy as np\n",
    "import os\n",
    "\n",
    "# to make this notebook's output stable across runs\n",
    "np.random.seed(42)\n",
    "tf.random.set_seed(42)"
   ]
  },
  {
   "cell_type": "code",
   "execution_count": null,
   "metadata": {
    "colab": {
     "base_uri": "https://localhost:8080/",
     "height": 52
    },
    "colab_type": "code",
    "id": "orC-LOA0dZS0",
    "outputId": "3c66470c-5849-487c-ee7b-cc4070a02880"
   },
   "outputs": [
    {
     "name": "stdout",
     "output_type": "stream",
     "text": [
      "Downloading data from https://storage.googleapis.com/tensorflow/tf-keras-datasets/mnist.npz\n",
      "11493376/11490434 [==============================] - 0s 0us/step\n"
     ]
    }
   ],
   "source": [
    "(X_train_full, y_train_full), (X_test, y_test) = keras.datasets.mnist.load_data()\n",
    "X_train, X_valid = X_train_full[:50000], X_train_full[50000:]\n",
    "y_train, y_valid = y_train_full[:50000], y_train_full[50000:]\n",
    "\n",
    "X_mean = X_train.mean(axis=0, keepdims=True)\n",
    "X_std = X_train.std(axis=0, keepdims=True) + 1e-7\n",
    "X_train = (X_train - X_mean) / X_std\n",
    "X_test = (X_test - X_mean) / X_std\n",
    "\n",
    "X_train = X_train[..., np.newaxis]\n",
    "X_valid = X_valid[..., np.newaxis]\n",
    "X_test = X_test[..., np.newaxis]\n"
   ]
  },
  {
   "cell_type": "code",
   "execution_count": null,
   "metadata": {
    "colab": {},
    "colab_type": "code",
    "id": "cek60fFIeTNS"
   },
   "outputs": [],
   "source": [
    "from functools import partial\n",
    "\n",
    "DefaultConv2D = partial(keras.layers.Conv2D, kernel_size=3,\n",
    "                        activation='relu', padding='SAME')\n",
    "\n",
    "model = keras.models.Sequential([\n",
    "    DefaultConv2D(filters=64, kernel_size=7, input_shape=[28, 28, 1]),\n",
    "    keras.layers.MaxPooling2D(pool_size=2),\n",
    "    DefaultConv2D(filters=128),\n",
    "    DefaultConv2D(filters=128),\n",
    "    keras.layers.MaxPooling2D(pool_size=2),\n",
    "    DefaultConv2D(filters=256),\n",
    "    DefaultConv2D(filters=256),\n",
    "    keras.layers.MaxPooling2D(pool_size=2),\n",
    "    keras.layers.Flatten(),\n",
    "    keras.layers.Dense(units=128, activation='relu'),\n",
    "    keras.layers.Dropout(0.5),\n",
    "    keras.layers.Dense(units=64, activation='relu'),\n",
    "    keras.layers.Dropout(0.5),\n",
    "    keras.layers.Dense(units=10, activation='softmax'),\n",
    "])"
   ]
  },
  {
   "cell_type": "code",
   "execution_count": null,
   "metadata": {
    "colab": {
     "base_uri": "https://localhost:8080/",
     "height": 402
    },
    "colab_type": "code",
    "id": "R5R8QephiM4F",
    "outputId": "81bbcc95-8b24-4724-bbba-c61e034e5957"
   },
   "outputs": [
    {
     "name": "stdout",
     "output_type": "stream",
     "text": [
      "Epoch 1/10\n",
      "1563/1563 [==============================] - 33s 21ms/step - loss: 0.3701 - accuracy: 0.8916 - val_loss: 13.2914 - val_accuracy: 0.9243\n",
      "Epoch 2/10\n",
      "1563/1563 [==============================] - 33s 21ms/step - loss: 0.1144 - accuracy: 0.9735 - val_loss: 5.4854 - val_accuracy: 0.9804\n",
      "Epoch 3/10\n",
      "1563/1563 [==============================] - 33s 21ms/step - loss: 0.0842 - accuracy: 0.9801 - val_loss: 11.5697 - val_accuracy: 0.9627\n",
      "Epoch 4/10\n",
      "1563/1563 [==============================] - 33s 21ms/step - loss: 0.0819 - accuracy: 0.9815 - val_loss: 4.3380 - val_accuracy: 0.9664\n",
      "Epoch 5/10\n",
      "1563/1563 [==============================] - 33s 21ms/step - loss: 0.0713 - accuracy: 0.9834 - val_loss: 5.1348 - val_accuracy: 0.9760\n",
      "Epoch 6/10\n",
      "1563/1563 [==============================] - 33s 21ms/step - loss: 0.0629 - accuracy: 0.9851 - val_loss: 5.6945 - val_accuracy: 0.9720\n",
      "Epoch 7/10\n",
      "1563/1563 [==============================] - 33s 21ms/step - loss: 0.0552 - accuracy: 0.9873 - val_loss: 9.8602 - val_accuracy: 0.9671\n",
      "Epoch 8/10\n",
      "1563/1563 [==============================] - 33s 21ms/step - loss: 0.0632 - accuracy: 0.9861 - val_loss: 3.9759 - val_accuracy: 0.9778\n",
      "Epoch 9/10\n",
      "1563/1563 [==============================] - 33s 21ms/step - loss: 0.0500 - accuracy: 0.9885 - val_loss: 5.3582 - val_accuracy: 0.9742\n",
      "Epoch 10/10\n",
      "1563/1563 [==============================] - 33s 21ms/step - loss: 0.0536 - accuracy: 0.9880 - val_loss: 7.6333 - val_accuracy: 0.9690\n",
      "313/313 [==============================] - 2s 6ms/step - loss: 595.0555 - accuracy: 0.9877\n"
     ]
    }
   ],
   "source": [
    "model.compile(loss=\"sparse_categorical_crossentropy\", optimizer=\"nadam\", metrics=[\"accuracy\"])\n",
    "history = model.fit(X_train, y_train, epochs=10, validation_data=(X_valid, y_valid))\n",
    "score = model.evaluate(X_test, y_test)\n",
    "X_new = X_test[:10] # pretend we have new images\n",
    "y_pred = model.predict(X_new)"
   ]
  },
  {
   "cell_type": "code",
   "execution_count": null,
   "metadata": {
    "colab": {
     "base_uri": "https://localhost:8080/",
     "height": 555
    },
    "colab_type": "code",
    "id": "DzTjoVAoo6xt",
    "outputId": "dfd0cbce-63ee-4bbe-8af6-7f2a317713b9"
   },
   "outputs": [
    {
     "data": {
      "text/plain": [
       "(array([7, 2, 1, 0, 4, 1, 4, 9, 5, 9], dtype=uint8),\n",
       " array([[0.00000000e+00, 0.00000000e+00, 1.83404118e-37, 2.01300964e-37,\n",
       "         0.00000000e+00, 0.00000000e+00, 0.00000000e+00, 1.00000000e+00,\n",
       "         0.00000000e+00, 1.24262536e-33],\n",
       "        [0.00000000e+00, 3.06492960e-32, 1.00000000e+00, 9.49365329e-34,\n",
       "         0.00000000e+00, 0.00000000e+00, 0.00000000e+00, 4.79487228e-22,\n",
       "         1.56750423e-32, 1.19727669e-38],\n",
       "        [0.00000000e+00, 1.00000000e+00, 4.94332626e-21, 1.32982297e-22,\n",
       "         1.40294507e-22, 9.34195779e-23, 1.41633463e-22, 2.21428657e-21,\n",
       "         5.28825433e-17, 1.80453695e-25],\n",
       "        [1.00000000e+00, 0.00000000e+00, 0.00000000e+00, 0.00000000e+00,\n",
       "         0.00000000e+00, 1.50582681e-33, 8.00945219e-25, 0.00000000e+00,\n",
       "         1.48639864e-27, 5.32849332e-31],\n",
       "        [5.29021405e-31, 2.54849338e-20, 1.66769092e-23, 1.32773327e-24,\n",
       "         1.00000000e+00, 2.12211630e-24, 1.54254907e-17, 3.54037299e-16,\n",
       "         1.26893053e-15, 1.18325238e-10],\n",
       "        [0.00000000e+00, 1.00000000e+00, 7.31504725e-29, 1.29302463e-31,\n",
       "         5.32849332e-31, 1.59429184e-32, 1.32863552e-31, 3.87729360e-29,\n",
       "         2.32896604e-23, 6.83898423e-35],\n",
       "        [7.82440457e-29, 5.68145695e-18, 1.18622627e-21, 3.51642890e-23,\n",
       "         1.00000000e+00, 5.67009805e-23, 2.71792782e-16, 3.26848534e-14,\n",
       "         4.70108961e-15, 5.53628365e-10],\n",
       "        [1.50920310e-17, 4.49284225e-18, 9.72756099e-15, 6.67096309e-11,\n",
       "         9.41809652e-09, 5.81408963e-15, 1.36712702e-19, 1.31786485e-10,\n",
       "         1.00596495e-07, 9.99999881e-01],\n",
       "        [2.00532204e-13, 4.26874248e-12, 2.58406865e-14, 9.89413138e-07,\n",
       "         2.01496846e-13, 9.99987602e-01, 2.05685913e-09, 4.35233169e-11,\n",
       "         1.13819369e-05, 9.10533515e-09],\n",
       "        [5.58903382e-22, 1.91689833e-20, 4.08493418e-17, 7.38827456e-13,\n",
       "         7.59778962e-10, 1.89861215e-18, 1.45656808e-23, 1.14369477e-11,\n",
       "         8.20984392e-10, 1.00000000e+00]], dtype=float32))"
      ]
     },
     "execution_count": 9,
     "metadata": {
      "tags": []
     },
     "output_type": "execute_result"
    }
   ],
   "source": [
    "y_test[:10], y_pred"
   ]
  },
  {
   "cell_type": "code",
   "execution_count": null,
   "metadata": {
    "colab": {},
    "colab_type": "code",
    "id": "HYTnOrZHOXSn"
   },
   "outputs": [],
   "source": [
    "model.save(\"drive/My Drive/Colab Models/mnist_cnn_model.h5\")"
   ]
  },
  {
   "cell_type": "code",
   "execution_count": null,
   "metadata": {
    "colab": {
     "base_uri": "https://localhost:8080/",
     "height": 34
    },
    "colab_type": "code",
    "id": "H7fVjenwPLah",
    "outputId": "5e547cd6-31a3-4445-d2c5-63f194224917"
   },
   "outputs": [
    {
     "data": {
      "text/plain": [
       "5659068"
      ]
     },
     "execution_count": 9,
     "metadata": {
      "tags": []
     },
     "output_type": "execute_result"
    }
   ],
   "source": [
    "saved_model_dir = \"drive/My Drive/Colab Models/mnist_cnn_model.h5\"\n",
    "model = keras.models.load_model(saved_model_dir)\n",
    "\n",
    "converter = tf.lite.TFLiteConverter.from_keras_model(model)\n",
    "tflite_model = converter.convert()\n",
    "open(\"drive/My Drive/Colab Models/mnist_cnn_tflite_model.tflite\", \"wb\").write(tflite_model)\n"
   ]
  }
 ],
 "metadata": {
  "accelerator": "GPU",
  "colab": {
   "collapsed_sections": [],
   "name": "CNN_Part1.ipynb",
   "provenance": []
  },
  "kernelspec": {
   "display_name": "Python 3",
   "language": "python",
   "name": "python3"
  },
  "language_info": {
   "codemirror_mode": {
    "name": "ipython",
    "version": 3
   },
   "file_extension": ".py",
   "mimetype": "text/x-python",
   "name": "python",
   "nbconvert_exporter": "python",
   "pygments_lexer": "ipython3",
   "version": "3.7.7"
  }
 },
 "nbformat": 4,
 "nbformat_minor": 4
}
